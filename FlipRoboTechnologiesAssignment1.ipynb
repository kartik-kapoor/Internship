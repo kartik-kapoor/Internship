{
 "cells": [
  {
   "cell_type": "markdown",
   "id": "a2420088-38a2-4d5e-ada1-87eda8de571d",
   "metadata": {},
   "source": [
    "FLIP ROBO TECHNOLOGIES"
   ]
  },
  {
   "cell_type": "code",
   "execution_count": null,
   "id": "f08a5020-7908-446d-af57-0f582e5ecd99",
   "metadata": {},
   "outputs": [],
   "source": []
  },
  {
   "cell_type": "code",
   "execution_count": 6,
   "id": "a31bd700-8fbc-465e-962a-390bbc690f5e",
   "metadata": {},
   "outputs": [
    {
     "name": "stdin",
     "output_type": "stream",
     "text": [
      "Enter a number to find its factorial:  10\n"
     ]
    },
    {
     "name": "stdout",
     "output_type": "stream",
     "text": [
      "The factorial of 10 is 3628800.\n"
     ]
    }
   ],
   "source": [
    "# TO FIND FACTORIAL OF NUMBER\n",
    "def factorial(n):\n",
    "    # Base case\n",
    "    if n == 0 or n == 1:\n",
    "        return 1\n",
    "    else:\n",
    "        return n * factorial(n - 1)\n",
    "\n",
    "# Input from the user\n",
    "num = int(input(\"Enter a number to find its factorial: \"))\n",
    "\n",
    "if num < 0:\n",
    "    print(\"Factorial is not defined for negative numbers.\")\n",
    "else:\n",
    "    result = factorial(num)\n",
    "    print(f\"The factorial of {num} is {result}.\")\n"
   ]
  },
  {
   "cell_type": "code",
   "execution_count": 8,
   "id": "a558cded-6982-496f-be71-3a93c24ca20f",
   "metadata": {},
   "outputs": [
    {
     "name": "stdin",
     "output_type": "stream",
     "text": [
      "Enter a number to check if it's prime or composite:  10\n"
     ]
    },
    {
     "name": "stdout",
     "output_type": "stream",
     "text": [
      "10 is a composite number.\n"
     ]
    }
   ],
   "source": [
    "\n",
    "#TO FIND WHETHER NUMBER IS PRIME OR COMPOSITE\n",
    "def is_prime(num):\n",
    "    if num <= 1:\n",
    "        return False  # 0 and 1 are not prime numbers\n",
    "    for i in range(2, int(num**0.5) + 1):\n",
    "        if num % i == 0:\n",
    "            return False  # Found a divisor, so it's composite\n",
    "    return True  # No divisors found, it's prime\n",
    "\n",
    "# Input from the user\n",
    "number = int(input(\"Enter a number to check if it's prime or composite: \"))\n",
    "\n",
    "if number < 0:\n",
    "    print(\"Negative numbers are neither prime nor composite.\")\n",
    "elif is_prime(number):\n",
    "    print(f\"{number} is a prime number.\")\n",
    "else:\n",
    "    print(f\"{number} is a composite number.\")\n"
   ]
  },
  {
   "cell_type": "code",
   "execution_count": 9,
   "id": "150d7387-d27e-4879-ba3a-d69df21e5efd",
   "metadata": {},
   "outputs": [
    {
     "name": "stdin",
     "output_type": "stream",
     "text": [
      "Enter a string to check if it's a palindrome:  WED\n"
     ]
    },
    {
     "name": "stdout",
     "output_type": "stream",
     "text": [
      "'WED' is not a palindrome.\n"
     ]
    }
   ],
   "source": [
    "#GIVEN STRING IS PALINDROME OR NOT\n",
    "def is_palindrome(s):\n",
    "    # Normalize the string by removing spaces and converting to lowercase\n",
    "    normalized_str = ''.join(s.split()).lower()\n",
    "    # Check if the string is the same forwards and backwards\n",
    "    return normalized_str == normalized_str[::-1]\n",
    "\n",
    "# Input from the user\n",
    "string = input(\"Enter a string to check if it's a palindrome: \")\n",
    "\n",
    "if is_palindrome(string):\n",
    "    print(f\"'{string}' is a palindrome.\")\n",
    "else:\n",
    "    print(f\"'{string}' is not a palindrome.\")\n"
   ]
  },
  {
   "cell_type": "code",
   "execution_count": 10,
   "id": "69d26dfc-cb1b-4c7a-8143-97022aab6ddc",
   "metadata": {},
   "outputs": [
    {
     "name": "stdin",
     "output_type": "stream",
     "text": [
      "Enter the length of the first side:  3\n",
      "Enter the length of the second side:  4\n"
     ]
    },
    {
     "name": "stdout",
     "output_type": "stream",
     "text": [
      "The length of the hypotenuse is: 5.00\n"
     ]
    }
   ],
   "source": [
    "# TO FIND THIRD SIDE OF RIGHT ANGLED TRIANGLE FROM TWO GIVEN SIDES\n",
    "import math\n",
    "\n",
    "def calculate_third_side(a, b):\n",
    "    # Calculate the hypotenuse\n",
    "    hypotenuse = math.sqrt(a**2 + b**2)\n",
    "    return hypotenuse\n",
    "\n",
    "# Input from the user\n",
    "side1 = float(input(\"Enter the length of the first side: \"))\n",
    "side2 = float(input(\"Enter the length of the second side: \"))\n",
    "\n",
    "# Calculate the hypotenuse\n",
    "third_side = calculate_third_side(side1, side2)\n",
    "\n",
    "print(f\"The length of the hypotenuse is: {third_side:.2f}\")\n"
   ]
  },
  {
   "cell_type": "code",
   "execution_count": 11,
   "id": "95337160-4df9-4859-84dd-c5ff2ff99768",
   "metadata": {},
   "outputs": [
    {
     "name": "stdin",
     "output_type": "stream",
     "text": [
      "Enter a string:  AEWFRAWE\n"
     ]
    },
    {
     "name": "stdout",
     "output_type": "stream",
     "text": [
      "Character frequencies:\n",
      "'A': 2\n",
      "'E': 2\n",
      "'W': 2\n",
      "'F': 1\n",
      "'R': 1\n"
     ]
    }
   ],
   "source": [
    "# TO PRINT FREQUENCY OF EACH OF THE CHARACTERS PRESENT IN A GIVEN STRING\n",
    "def character_frequency(s):\n",
    "    # Create a dictionary to hold the frequency of each character\n",
    "    frequency = {}\n",
    "    \n",
    "    for char in s:\n",
    "        if char in frequency:\n",
    "            frequency[char] += 1  # Increment count if character already in dictionary\n",
    "        else:\n",
    "            frequency[char] = 1  # Initialize count for new character\n",
    "\n",
    "    return frequency\n",
    "\n",
    "# Input from the user\n",
    "input_string = input(\"Enter a string: \")\n",
    "\n",
    "# Get the frequency of characters\n",
    "freq = character_frequency(input_string)\n",
    "\n",
    "# Print the frequency of each character\n",
    "print(\"Character frequencies:\")\n",
    "for char, count in freq.items():\n",
    "    print(f\"'{char}': {count}\")\n"
   ]
  },
  {
   "cell_type": "code",
   "execution_count": null,
   "id": "f12c045e-81ae-4d0d-9236-f716af754986",
   "metadata": {},
   "outputs": [],
   "source": []
  }
 ],
 "metadata": {
  "kernelspec": {
   "display_name": "Python 3 (ipykernel)",
   "language": "python",
   "name": "python3"
  },
  "language_info": {
   "codemirror_mode": {
    "name": "ipython",
    "version": 3
   },
   "file_extension": ".py",
   "mimetype": "text/x-python",
   "name": "python",
   "nbconvert_exporter": "python",
   "pygments_lexer": "ipython3",
   "version": "3.11.7"
  }
 },
 "nbformat": 4,
 "nbformat_minor": 5
}
